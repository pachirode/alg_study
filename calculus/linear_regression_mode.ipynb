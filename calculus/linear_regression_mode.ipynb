{
 "cells": [
  {
   "cell_type": "markdown",
   "metadata": {},
   "source": [
    "# 线性回归\n",
    "当数据呈线性关系，通过线性回归模型求得具体参数\n",
    "\n",
    "### 拟合和回归\n",
    "数据之间可能存在某种函数或者方程近似表示，但是具体的参数未知。可以使用拟合的方式求得这些参数。回归是求得这些参数的具体方法或者模型。\n",
    "> 常见的拟合方法：`ARIMA`, `VAR`\n",
    "\n",
    "##### 最小二乘法\n",
    "一个方程组可能无解，我们可以去寻找和解近似的向量$x$。使用欧氏距离来确定与解相似，这样求出来的 $x$ 被称为最小二乘解。\n",
    "\n",
    "找到合适的参数，使得残差最小。及找到最合适的参数，使得点尽可能的分布在直线的两侧\n",
    "$M = \\sum (y_i - f(x_i))^2$\n",
    "> 真实值 $y_i$；拟合值：$f(x_i)$\n",
    "\n",
    "使用线性代数理解：\n",
    "$f(x_1, x_2, x_3) = a_0 + a_1x_1 + a_2x_2 + a_3x_3$\n",
    "$$ \\left(\n",
    "\\begin{matrix}\n",
    "y_1 \\\\\n",
    "y_2 \\\\\n",
    "y_3 \\\\\n",
    "y_4 \\\\\n",
    "y_5 \\\\\n",
    "\\end{matrix}\n",
    "\\right) \n",
    "- \n",
    "\\left(\n",
    "\\begin{matrix}\n",
    "1 & x_{11} & x_{12} & x_{13} \\\\\n",
    "1 & x_{21} & x_{22} & x_{23} \\\\\n",
    "1 & x_{31} & x_{32} & x_{33} \\\\\n",
    "1 & x_{41} & x_{42} & x_{43} \\\\\n",
    "1 & x_{51} & x_{52} & x_{53}\n",
    "\\end{matrix}\n",
    "\\right)\n",
    "\\left(\n",
    "\\begin{matrix}\n",
    "a_0 \\\\\n",
    "a_1 \\\\\n",
    "a_2 \\\\\n",
    "a_3 \\\\\n",
    "\\end{matrix}\n",
    "\\right)\n",
    "= y - \\mathbf{Xa}\n",
    "$$\n",
    "> $m = y - \\mathbf{Xa}$ 即为残差，需要求取元素平方和的最小值，$\\mathbf{m^Tm}$ 最小\n",
    "> $\\\\ \\mathbf{a} = (\\mathbf{x^Tx})^{-1}\\mathbf{X^Ty}$"
   ]
  },
  {
   "cell_type": "markdown",
   "metadata": {},
   "source": [
    "最小二乘法案例：\n",
    "$\\\\ y = 2 + \\frac{1}{3}x_1 + \\frac{4}{5}x_2 - \\frac{1}{5}x_3$\n"
   ]
  },
  {
   "cell_type": "code",
   "execution_count": 14,
   "metadata": {},
   "outputs": [
    {
     "data": {
      "text/plain": [
       "array([-23289.42574874,   3827.57418621,   6875.76842449,  15742.38105472])"
      ]
     },
     "execution_count": 14,
     "metadata": {},
     "output_type": "execute_result"
    }
   ],
   "source": [
    "# LSE\n",
    "import numpy as np\n",
    "import matplotlib.pyplot as plt\n",
    "\n",
    "\n",
    "# 生成采样点\n",
    "np.random.seed(37)\n",
    "x = np.random.randint(0, 20, size=(4, 3))\n",
    "y = np.array([2 + 1/3 * points[0] + 4/5 * points[1] - 1/5 * points[2] for points in x])\n",
    "X = np.hstack((np.ones(4).reshape(4,-1), x))\n",
    "\n",
    "a = np.dot(np.dot(np.linalg.inv(np.dot(X, X.T)), X.T), y)\n",
    "a\n",
    "\n"
   ]
  }
 ],
 "metadata": {
  "kernelspec": {
   "display_name": "Python 3",
   "language": "python",
   "name": "python3"
  },
  "language_info": {
   "codemirror_mode": {
    "name": "ipython",
    "version": 3
   },
   "file_extension": ".py",
   "mimetype": "text/x-python",
   "name": "python",
   "nbconvert_exporter": "python",
   "pygments_lexer": "ipython3",
   "version": "3.11.4"
  },
  "orig_nbformat": 4
 },
 "nbformat": 4,
 "nbformat_minor": 2
}
